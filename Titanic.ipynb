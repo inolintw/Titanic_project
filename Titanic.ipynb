{
 "cells": [
  {
   "cell_type": "code",
   "execution_count": 66,
   "metadata": {},
   "outputs": [
    {
     "name": "stdout",
     "output_type": "stream",
     "text": [
      "Shape of train/test/consequence: (850, 15) (459, 14) (459, 2)\n"
     ]
    },
    {
     "data": {
      "text/html": [
       "<div>\n",
       "<style scoped>\n",
       "    .dataframe tbody tr th:only-of-type {\n",
       "        vertical-align: middle;\n",
       "    }\n",
       "\n",
       "    .dataframe tbody tr th {\n",
       "        vertical-align: top;\n",
       "    }\n",
       "\n",
       "    .dataframe thead th {\n",
       "        text-align: right;\n",
       "    }\n",
       "</style>\n",
       "<table border=\"1\" class=\"dataframe\">\n",
       "  <thead>\n",
       "    <tr style=\"text-align: right;\">\n",
       "      <th></th>\n",
       "      <th>passenger_id</th>\n",
       "      <th>pclass</th>\n",
       "      <th>name</th>\n",
       "      <th>sex</th>\n",
       "      <th>age</th>\n",
       "      <th>sibsp</th>\n",
       "      <th>parch</th>\n",
       "      <th>ticket</th>\n",
       "      <th>fare</th>\n",
       "      <th>cabin</th>\n",
       "      <th>embarked</th>\n",
       "      <th>boat</th>\n",
       "      <th>body</th>\n",
       "      <th>home.dest</th>\n",
       "      <th>survived</th>\n",
       "    </tr>\n",
       "  </thead>\n",
       "  <tbody>\n",
       "    <tr>\n",
       "      <th>0</th>\n",
       "      <td>1216</td>\n",
       "      <td>3</td>\n",
       "      <td>Smyth, Miss. Julia</td>\n",
       "      <td>female</td>\n",
       "      <td>NaN</td>\n",
       "      <td>0</td>\n",
       "      <td>0</td>\n",
       "      <td>335432</td>\n",
       "      <td>7.7333</td>\n",
       "      <td>NaN</td>\n",
       "      <td>Q</td>\n",
       "      <td>13</td>\n",
       "      <td>NaN</td>\n",
       "      <td>NaN</td>\n",
       "      <td>1</td>\n",
       "    </tr>\n",
       "    <tr>\n",
       "      <th>1</th>\n",
       "      <td>699</td>\n",
       "      <td>3</td>\n",
       "      <td>Cacic, Mr. Luka</td>\n",
       "      <td>male</td>\n",
       "      <td>38.0</td>\n",
       "      <td>0</td>\n",
       "      <td>0</td>\n",
       "      <td>315089</td>\n",
       "      <td>8.6625</td>\n",
       "      <td>NaN</td>\n",
       "      <td>S</td>\n",
       "      <td>NaN</td>\n",
       "      <td>NaN</td>\n",
       "      <td>Croatia</td>\n",
       "      <td>0</td>\n",
       "    </tr>\n",
       "    <tr>\n",
       "      <th>2</th>\n",
       "      <td>1267</td>\n",
       "      <td>3</td>\n",
       "      <td>Van Impe, Mrs. Jean Baptiste (Rosalie Paula Go...</td>\n",
       "      <td>female</td>\n",
       "      <td>30.0</td>\n",
       "      <td>1</td>\n",
       "      <td>1</td>\n",
       "      <td>345773</td>\n",
       "      <td>24.1500</td>\n",
       "      <td>NaN</td>\n",
       "      <td>S</td>\n",
       "      <td>NaN</td>\n",
       "      <td>NaN</td>\n",
       "      <td>NaN</td>\n",
       "      <td>0</td>\n",
       "    </tr>\n",
       "    <tr>\n",
       "      <th>3</th>\n",
       "      <td>449</td>\n",
       "      <td>2</td>\n",
       "      <td>Hocking, Mrs. Elizabeth (Eliza Needs)</td>\n",
       "      <td>female</td>\n",
       "      <td>54.0</td>\n",
       "      <td>1</td>\n",
       "      <td>3</td>\n",
       "      <td>29105</td>\n",
       "      <td>23.0000</td>\n",
       "      <td>NaN</td>\n",
       "      <td>S</td>\n",
       "      <td>4</td>\n",
       "      <td>NaN</td>\n",
       "      <td>Cornwall / Akron, OH</td>\n",
       "      <td>1</td>\n",
       "    </tr>\n",
       "    <tr>\n",
       "      <th>4</th>\n",
       "      <td>576</td>\n",
       "      <td>2</td>\n",
       "      <td>Veal, Mr. James</td>\n",
       "      <td>male</td>\n",
       "      <td>40.0</td>\n",
       "      <td>0</td>\n",
       "      <td>0</td>\n",
       "      <td>28221</td>\n",
       "      <td>13.0000</td>\n",
       "      <td>NaN</td>\n",
       "      <td>S</td>\n",
       "      <td>NaN</td>\n",
       "      <td>NaN</td>\n",
       "      <td>Barre, Co Washington, VT</td>\n",
       "      <td>0</td>\n",
       "    </tr>\n",
       "  </tbody>\n",
       "</table>\n",
       "</div>"
      ],
      "text/plain": [
       "   passenger_id  pclass                                               name  \\\n",
       "0          1216       3                                 Smyth, Miss. Julia   \n",
       "1           699       3                                    Cacic, Mr. Luka   \n",
       "2          1267       3  Van Impe, Mrs. Jean Baptiste (Rosalie Paula Go...   \n",
       "3           449       2              Hocking, Mrs. Elizabeth (Eliza Needs)   \n",
       "4           576       2                                    Veal, Mr. James   \n",
       "\n",
       "      sex   age  sibsp  parch  ticket     fare cabin embarked boat  body  \\\n",
       "0  female   NaN      0      0  335432   7.7333   NaN        Q   13   NaN   \n",
       "1    male  38.0      0      0  315089   8.6625   NaN        S  NaN   NaN   \n",
       "2  female  30.0      1      1  345773  24.1500   NaN        S  NaN   NaN   \n",
       "3  female  54.0      1      3   29105  23.0000   NaN        S    4   NaN   \n",
       "4    male  40.0      0      0   28221  13.0000   NaN        S  NaN   NaN   \n",
       "\n",
       "                  home.dest  survived  \n",
       "0                       NaN         1  \n",
       "1                   Croatia         0  \n",
       "2                       NaN         0  \n",
       "3      Cornwall / Akron, OH         1  \n",
       "4  Barre, Co Washington, VT         0  "
      ]
     },
     "execution_count": 66,
     "metadata": {},
     "output_type": "execute_result"
    }
   ],
   "source": [
    "import numpy as np\n",
    "import pandas as pd\n",
    "import re\n",
    "\n",
    "import seaborn as sns\n",
    "import matplotlib.pyplot as plt\n",
    "%matplotlib inline\n",
    "\n",
    "import plotly.offline as py\n",
    "#py.init_notebook_mode(connected=True)\n",
    "import plotly.graph_objs as go\n",
    "import plotly.tools as tls\n",
    "\n",
    "from sklearn import tree\n",
    "from sklearn.metrics import accuracy_score\n",
    "from sklearn.model_selection import KFold\n",
    "from sklearn.model_selection import cross_val_score\n",
    "from IPython.display import Image as PImage\n",
    "from subprocess import check_call\n",
    "from sklearn.ensemble import RandomForestClassifier\n",
    "\n",
    "# 載入資料\n",
    "train = pd.read_csv('Titanic/titanic_train.csv')\n",
    "test = pd.read_csv('Titanic/titanic_test.csv')\n",
    "consequence = pd.read_csv('Titanic/gender_baseline.csv')\n",
    "\n",
    "print('Shape of train/test/consequence:', train.shape , test.shape , consequence.shape)\n",
    "\n",
    "test.head(5)\n",
    "consequence.head(5)\n",
    "train.head(5)\n",
    "# 檢視後發現應先合併資料"
   ]
  },
  {
   "cell_type": "code",
   "execution_count": 67,
   "metadata": {},
   "outputs": [
    {
     "data": {
      "text/plain": [
       "(1309, 15)"
      ]
     },
     "execution_count": 67,
     "metadata": {},
     "output_type": "execute_result"
    }
   ],
   "source": [
    "# 合併：測試資料和結果併為test_merge,再跟訓練資料train合併\n",
    "test_merge = pd.concat([test, consequence], axis=1, join='inner')\n",
    "test_merge = test_merge.loc[:,~test_merge.columns.duplicated()]\n",
    "test_merge.head(5)\n",
    "\n",
    "result = pd.concat([train,test_merge], keys=['train', 'test'])\n",
    "result.shape"
   ]
  },
  {
   "cell_type": "code",
   "execution_count": 68,
   "metadata": {
    "scrolled": true
   },
   "outputs": [
    {
     "name": "stdout",
     "output_type": "stream",
     "text": [
      "<class 'pandas.core.frame.DataFrame'>\n",
      "MultiIndex: 1309 entries, ('train', 0) to ('test', 458)\n",
      "Data columns (total 15 columns):\n",
      " #   Column        Non-Null Count  Dtype  \n",
      "---  ------        --------------  -----  \n",
      " 0   passenger_id  1309 non-null   int64  \n",
      " 1   pclass        1309 non-null   int64  \n",
      " 2   name          1309 non-null   object \n",
      " 3   sex           1309 non-null   object \n",
      " 4   age           1046 non-null   float64\n",
      " 5   sibsp         1309 non-null   int64  \n",
      " 6   parch         1309 non-null   int64  \n",
      " 7   ticket        1309 non-null   object \n",
      " 8   fare          1308 non-null   float64\n",
      " 9   cabin         295 non-null    object \n",
      " 10  embarked      1307 non-null   object \n",
      " 11  boat          486 non-null    object \n",
      " 12  body          121 non-null    float64\n",
      " 13  home.dest     745 non-null    object \n",
      " 14  survived      1309 non-null   int64  \n",
      "dtypes: float64(3), int64(5), object(7)\n",
      "memory usage: 163.9+ KB\n",
      "None\n",
      "\n",
      "\n",
      "passenger_id       0\n",
      "pclass             0\n",
      "name               0\n",
      "sex                0\n",
      "age              263\n",
      "sibsp              0\n",
      "parch              0\n",
      "ticket             0\n",
      "fare               1\n",
      "cabin           1014\n",
      "embarked           2\n",
      "boat             823\n",
      "body            1188\n",
      "home.dest        564\n",
      "survived           0\n",
      "dtype: int64\n",
      "\n",
      "\n",
      "                    name   sex    ticket        cabin embarked boat  \\\n",
      "count               1309  1309      1309          295     1307  486   \n",
      "unique              1307     2       929          186        3   27   \n",
      "top     Kelly, Mr. James  male  CA. 2343  C23 C25 C27        S   13   \n",
      "freq                   2   843        11            6      914   39   \n",
      "\n",
      "           home.dest  \n",
      "count            745  \n",
      "unique           369  \n",
      "top     New York, NY  \n",
      "freq              64  \n"
     ]
    }
   ],
   "source": [
    "# 檢查資料缺值\n",
    "print(result.info())\n",
    "print('\\n')\n",
    "print(result.isnull().sum())\n",
    "print('\\n')\n",
    "print(result.describe(include=['O']))"
   ]
  },
  {
   "cell_type": "code",
   "execution_count": 69,
   "metadata": {},
   "outputs": [
    {
     "data": {
      "text/html": [
       "<div>\n",
       "<style scoped>\n",
       "    .dataframe tbody tr th:only-of-type {\n",
       "        vertical-align: middle;\n",
       "    }\n",
       "\n",
       "    .dataframe tbody tr th {\n",
       "        vertical-align: top;\n",
       "    }\n",
       "\n",
       "    .dataframe thead th {\n",
       "        text-align: right;\n",
       "    }\n",
       "</style>\n",
       "<table border=\"1\" class=\"dataframe\">\n",
       "  <thead>\n",
       "    <tr style=\"text-align: right;\">\n",
       "      <th></th>\n",
       "      <th>pclass</th>\n",
       "      <th>survived</th>\n",
       "    </tr>\n",
       "  </thead>\n",
       "  <tbody>\n",
       "    <tr>\n",
       "      <th>0</th>\n",
       "      <td>1</td>\n",
       "      <td>0.542</td>\n",
       "    </tr>\n",
       "    <tr>\n",
       "      <th>1</th>\n",
       "      <td>2</td>\n",
       "      <td>0.415</td>\n",
       "    </tr>\n",
       "    <tr>\n",
       "      <th>2</th>\n",
       "      <td>3</td>\n",
       "      <td>0.268</td>\n",
       "    </tr>\n",
       "  </tbody>\n",
       "</table>\n",
       "</div>"
      ],
      "text/plain": [
       "   pclass  survived\n",
       "0       1     0.542\n",
       "1       2     0.415\n",
       "2       3     0.268"
      ]
     },
     "execution_count": 69,
     "metadata": {},
     "output_type": "execute_result"
    }
   ],
   "source": [
    "# 【初步檢視p-class資料與生存之關連】\n",
    "result[['pclass', 'survived']].groupby(['pclass'], as_index=False).mean().round(3).sort_values(by='survived', ascending=False)"
   ]
  },
  {
   "cell_type": "code",
   "execution_count": 70,
   "metadata": {},
   "outputs": [
    {
     "data": {
      "text/html": [
       "<div>\n",
       "<style scoped>\n",
       "    .dataframe tbody tr th:only-of-type {\n",
       "        vertical-align: middle;\n",
       "    }\n",
       "\n",
       "    .dataframe tbody tr th {\n",
       "        vertical-align: top;\n",
       "    }\n",
       "\n",
       "    .dataframe thead th {\n",
       "        text-align: right;\n",
       "    }\n",
       "</style>\n",
       "<table border=\"1\" class=\"dataframe\">\n",
       "  <thead>\n",
       "    <tr style=\"text-align: right;\">\n",
       "      <th></th>\n",
       "      <th></th>\n",
       "      <th>passenger_id</th>\n",
       "      <th>pclass</th>\n",
       "      <th>name</th>\n",
       "      <th>sex</th>\n",
       "      <th>age</th>\n",
       "      <th>sibsp</th>\n",
       "      <th>parch</th>\n",
       "      <th>ticket</th>\n",
       "      <th>fare</th>\n",
       "      <th>cabin</th>\n",
       "      <th>embarked</th>\n",
       "      <th>boat</th>\n",
       "      <th>body</th>\n",
       "      <th>home.dest</th>\n",
       "      <th>survived</th>\n",
       "      <th>Title</th>\n",
       "    </tr>\n",
       "  </thead>\n",
       "  <tbody>\n",
       "    <tr>\n",
       "      <th rowspan=\"5\" valign=\"top\">train</th>\n",
       "      <th>0</th>\n",
       "      <td>1216</td>\n",
       "      <td>3</td>\n",
       "      <td>Smyth, Miss. Julia</td>\n",
       "      <td>female</td>\n",
       "      <td>NaN</td>\n",
       "      <td>0</td>\n",
       "      <td>0</td>\n",
       "      <td>335432</td>\n",
       "      <td>7.7333</td>\n",
       "      <td>NaN</td>\n",
       "      <td>Q</td>\n",
       "      <td>13</td>\n",
       "      <td>NaN</td>\n",
       "      <td>NaN</td>\n",
       "      <td>1</td>\n",
       "      <td>Miss</td>\n",
       "    </tr>\n",
       "    <tr>\n",
       "      <th>1</th>\n",
       "      <td>699</td>\n",
       "      <td>3</td>\n",
       "      <td>Cacic, Mr. Luka</td>\n",
       "      <td>male</td>\n",
       "      <td>38.0</td>\n",
       "      <td>0</td>\n",
       "      <td>0</td>\n",
       "      <td>315089</td>\n",
       "      <td>8.6625</td>\n",
       "      <td>NaN</td>\n",
       "      <td>S</td>\n",
       "      <td>NaN</td>\n",
       "      <td>NaN</td>\n",
       "      <td>Croatia</td>\n",
       "      <td>0</td>\n",
       "      <td>Mr</td>\n",
       "    </tr>\n",
       "    <tr>\n",
       "      <th>2</th>\n",
       "      <td>1267</td>\n",
       "      <td>3</td>\n",
       "      <td>Van Impe, Mrs. Jean Baptiste (Rosalie Paula Go...</td>\n",
       "      <td>female</td>\n",
       "      <td>30.0</td>\n",
       "      <td>1</td>\n",
       "      <td>1</td>\n",
       "      <td>345773</td>\n",
       "      <td>24.1500</td>\n",
       "      <td>NaN</td>\n",
       "      <td>S</td>\n",
       "      <td>NaN</td>\n",
       "      <td>NaN</td>\n",
       "      <td>NaN</td>\n",
       "      <td>0</td>\n",
       "      <td>Mrs</td>\n",
       "    </tr>\n",
       "    <tr>\n",
       "      <th>3</th>\n",
       "      <td>449</td>\n",
       "      <td>2</td>\n",
       "      <td>Hocking, Mrs. Elizabeth (Eliza Needs)</td>\n",
       "      <td>female</td>\n",
       "      <td>54.0</td>\n",
       "      <td>1</td>\n",
       "      <td>3</td>\n",
       "      <td>29105</td>\n",
       "      <td>23.0000</td>\n",
       "      <td>NaN</td>\n",
       "      <td>S</td>\n",
       "      <td>4</td>\n",
       "      <td>NaN</td>\n",
       "      <td>Cornwall / Akron, OH</td>\n",
       "      <td>1</td>\n",
       "      <td>Mrs</td>\n",
       "    </tr>\n",
       "    <tr>\n",
       "      <th>4</th>\n",
       "      <td>576</td>\n",
       "      <td>2</td>\n",
       "      <td>Veal, Mr. James</td>\n",
       "      <td>male</td>\n",
       "      <td>40.0</td>\n",
       "      <td>0</td>\n",
       "      <td>0</td>\n",
       "      <td>28221</td>\n",
       "      <td>13.0000</td>\n",
       "      <td>NaN</td>\n",
       "      <td>S</td>\n",
       "      <td>NaN</td>\n",
       "      <td>NaN</td>\n",
       "      <td>Barre, Co Washington, VT</td>\n",
       "      <td>0</td>\n",
       "      <td>Mr</td>\n",
       "    </tr>\n",
       "  </tbody>\n",
       "</table>\n",
       "</div>"
      ],
      "text/plain": [
       "         passenger_id  pclass  \\\n",
       "train 0          1216       3   \n",
       "      1           699       3   \n",
       "      2          1267       3   \n",
       "      3           449       2   \n",
       "      4           576       2   \n",
       "\n",
       "                                                      name     sex   age  \\\n",
       "train 0                                 Smyth, Miss. Julia  female   NaN   \n",
       "      1                                    Cacic, Mr. Luka    male  38.0   \n",
       "      2  Van Impe, Mrs. Jean Baptiste (Rosalie Paula Go...  female  30.0   \n",
       "      3              Hocking, Mrs. Elizabeth (Eliza Needs)  female  54.0   \n",
       "      4                                    Veal, Mr. James    male  40.0   \n",
       "\n",
       "         sibsp  parch  ticket     fare cabin embarked boat  body  \\\n",
       "train 0      0      0  335432   7.7333   NaN        Q   13   NaN   \n",
       "      1      0      0  315089   8.6625   NaN        S  NaN   NaN   \n",
       "      2      1      1  345773  24.1500   NaN        S  NaN   NaN   \n",
       "      3      1      3   29105  23.0000   NaN        S    4   NaN   \n",
       "      4      0      0   28221  13.0000   NaN        S  NaN   NaN   \n",
       "\n",
       "                        home.dest  survived Title  \n",
       "train 0                       NaN         1  Miss  \n",
       "      1                   Croatia         0    Mr  \n",
       "      2                       NaN         0   Mrs  \n",
       "      3      Cornwall / Akron, OH         1   Mrs  \n",
       "      4  Barre, Co Washington, VT         0    Mr  "
      ]
     },
     "execution_count": 70,
     "metadata": {},
     "output_type": "execute_result"
    }
   ],
   "source": [
    "# 【處理name-1/3】\n",
    "# 定義函式取得乘客Title\n",
    "def get_title(g_name):\n",
    "    title_search = re.search(' ([A-Za-z]+)\\.', g_name)\n",
    "    # If the title exists, extract and return it.\n",
    "    if title_search:\n",
    "        return title_search.group(1)\n",
    "    return \"\"\n",
    "\n",
    "result['Title'] = result['name'].apply(get_title)\n",
    "result.head(5)\n",
    "\n",
    "# print(result.describe(include=['O']))\n",
    "# result.Title.unique()"
   ]
  },
  {
   "cell_type": "code",
   "execution_count": 71,
   "metadata": {},
   "outputs": [
    {
     "data": {
      "text/html": [
       "<div>\n",
       "<style scoped>\n",
       "    .dataframe tbody tr th:only-of-type {\n",
       "        vertical-align: middle;\n",
       "    }\n",
       "\n",
       "    .dataframe tbody tr th {\n",
       "        vertical-align: top;\n",
       "    }\n",
       "\n",
       "    .dataframe thead th {\n",
       "        text-align: right;\n",
       "    }\n",
       "</style>\n",
       "<table border=\"1\" class=\"dataframe\">\n",
       "  <thead>\n",
       "    <tr style=\"text-align: right;\">\n",
       "      <th></th>\n",
       "      <th>Title</th>\n",
       "      <th>survived</th>\n",
       "    </tr>\n",
       "  </thead>\n",
       "  <tbody>\n",
       "    <tr>\n",
       "      <th>3</th>\n",
       "      <td>Mrs</td>\n",
       "      <td>0.869</td>\n",
       "    </tr>\n",
       "    <tr>\n",
       "      <th>1</th>\n",
       "      <td>Miss</td>\n",
       "      <td>0.761</td>\n",
       "    </tr>\n",
       "    <tr>\n",
       "      <th>0</th>\n",
       "      <td>Master</td>\n",
       "      <td>0.443</td>\n",
       "    </tr>\n",
       "    <tr>\n",
       "      <th>4</th>\n",
       "      <td>Rare</td>\n",
       "      <td>0.310</td>\n",
       "    </tr>\n",
       "    <tr>\n",
       "      <th>2</th>\n",
       "      <td>Mr</td>\n",
       "      <td>0.094</td>\n",
       "    </tr>\n",
       "  </tbody>\n",
       "</table>\n",
       "</div>"
      ],
      "text/plain": [
       "    Title  survived\n",
       "3     Mrs     0.869\n",
       "1    Miss     0.761\n",
       "0  Master     0.443\n",
       "4    Rare     0.310\n",
       "2      Mr     0.094"
      ]
     },
     "execution_count": 71,
     "metadata": {},
     "output_type": "execute_result"
    }
   ],
   "source": [
    "# 【處理name-2/3】\n",
    "# 進一步處理特殊Title, 只留下Miss,Mr,Mrs,Master,Rare五種\n",
    "result['Title'] = result['Title'].replace(['Dr', 'Col', 'Sir',\n",
    "       'Rev', 'Major', 'Jonkheer', 'Capt', 'Countess', 'Don',\n",
    "       'Lady', 'Dona'], 'Rare')\n",
    "\n",
    "result['Title'] = result['Title'].replace('Mlle', 'Miss')\n",
    "result['Title'] = result['Title'].replace('Ms', 'Miss')\n",
    "result['Title'] = result['Title'].replace('Mme', 'Mrs')\n",
    "result.Title.unique()\n",
    "\n",
    "result[['Title', 'survived']].groupby(['Title'], as_index=False).mean().round(3).sort_values(by='survived', ascending=False)"
   ]
  },
  {
   "cell_type": "code",
   "execution_count": 72,
   "metadata": {},
   "outputs": [],
   "source": [
    "# 【處理name-3/3】\n",
    "# 將Title中各組依存活率依序分配好組別(Mrs,Miss,Master,Rare,Mr)五組\n",
    "result['Title'] = result['Title'].map({'Mrs': 1, 'Miss': 2,'Master': 3, 'Rare': 4, 'Mr': 5}).astype(int)"
   ]
  },
  {
   "cell_type": "code",
   "execution_count": 73,
   "metadata": {},
   "outputs": [],
   "source": [
    "# 【處理sex】\n",
    "result['sex'] = result['sex'].map({'male': 1, 'female': 0}).astype(int)"
   ]
  },
  {
   "cell_type": "code",
   "execution_count": 74,
   "metadata": {},
   "outputs": [
    {
     "data": {
      "text/plain": [
       "<matplotlib.legend.Legend at 0x1ffd03d0>"
      ]
     },
     "execution_count": 74,
     "metadata": {},
     "output_type": "execute_result"
    },
    {
     "data": {
      "image/png": "[encoded data removed]",
      "text/plain": [
       "<Figure size 1080x576 with 3 Axes>"
      ]
     },
     "metadata": {
      "needs_background": "light"
     },
     "output_type": "display_data"
    }
   ],
   "source": [
    "figure = plt.figure(figsize=(15,8))\n",
    "\n",
    "agemax = result['age'].max()\n",
    "agebins = range(0, int(agemax)+2, 5)\n",
    "\n",
    "plt.subplot(221)\n",
    "result[result['sex'] == 1]['age'].plot.hist(bins=agebins , label = 'Male',  color='#CDC7E5',edgecolor = 'w')\n",
    "result[result['sex'] == 0]['age'].plot.hist( bins=agebins ,label = 'Female',color='#FCEEB5',edgecolor = 'w')\n",
    "\n",
    "plt.ylim(top=120)\n",
    "plt.xlabel('Age')\n",
    "plt.ylabel('Number of People')\n",
    "plt.legend()\n",
    "\n",
    "plt.subplot(223)\n",
    "result[result['sex'] == 1]['age'].plot.hist(bins=agebins , label = 'Male',  color='#CDC7E5',edgecolor = 'w')\n",
    "result[(result['sex'] == 1)&(result['survived'] == 1)]['age'].plot.hist(bins=agebins , label = 'Male_survived', \n",
    "                                                                          color='#7776bc' ,edgecolor = 'k')\n",
    "plt.ylim(top=120)\n",
    "plt.xlabel('Age')\n",
    "plt.ylabel('Number of People')\n",
    "plt.legend()\n",
    "\n",
    "plt.subplot(224)\n",
    "result[result['sex'] == 0]['age'].plot.hist(bins=agebins , label = 'Female',  color='#FCEEB5',edgecolor = 'w')\n",
    "result[(result['sex'] == 0)&(result['survived'] == 1)]['age'].plot.hist(bins=agebins , label = 'Female_survived', \n",
    "                                                                          color='#ffec51',edgecolor = 'k')\n",
    "plt.ylim(top=120)\n",
    "plt.xlabel('Age')\n",
    "plt.ylabel('Number of People')\n",
    "plt.legend()\n"
   ]
  },
  {
   "cell_type": "code",
   "execution_count": 75,
   "metadata": {},
   "outputs": [],
   "source": [
    "# 【處理age-1/2】\n",
    "age_avg = result['age'].mean()\n",
    "age_std = result['age'].std()\n",
    "age_null_count = result['age'].isnull().sum()\n",
    "\n",
    "\n",
    "age_null_random_list = np.random.randint(age_avg - age_std, age_avg + age_std, size=age_null_count)\n",
    "\n",
    "#將隨機產生的整數陣列填入空值陣列\n",
    "result.loc[np.isnan(result['age']), 'age'] = age_null_random_list\n",
    "\n",
    "result['age'] = result['age'].astype(int)"
   ]
  },
  {
   "cell_type": "code",
   "execution_count": 76,
   "metadata": {},
   "outputs": [
    {
     "data": {
      "text/plain": [
       "array([4, 3, 6, 2, 5, 1, 7, 8])"
      ]
     },
     "execution_count": 76,
     "metadata": {},
     "output_type": "execute_result"
    }
   ],
   "source": [
    "# 【處理age-2/2分組】\n",
    "list = result.loc[result['survived']==1, 'age']\n",
    "np.percentile(list, (25, 50, 75), interpolation='midpoint')\n",
    "# 【決定以10歲作為級距分組】\n",
    "result.loc[ result['age'] <= 10, 'Age'] = 1\n",
    "result.loc[(result['age'] > 10) & (result['age'] <= 20), 'Age'] = 2\n",
    "result.loc[(result['age'] > 20) & (result['age'] <= 30), 'Age'] = 3\n",
    "result.loc[(result['age'] > 30) & (result['age'] <= 40), 'Age'] = 4\n",
    "result.loc[(result['age'] > 40) & (result['age'] <= 50), 'Age'] = 5\n",
    "result.loc[(result['age'] > 50) & (result['age'] <= 60), 'Age'] = 6\n",
    "result.loc[(result['age'] > 60) & (result['age'] <= 70), 'Age'] = 7\n",
    "result.loc[ result['age'] > 70, 'Age']=8 ;\n",
    "result['Age'] = result['Age'].astype(int)\n",
    "result.Age.unique()"
   ]
  },
  {
   "cell_type": "code",
   "execution_count": 77,
   "metadata": {},
   "outputs": [],
   "source": [
    "# 【新增family = sibsp + parch】\n",
    "result['family'] = (result['sibsp']+result['parch']).astype(int)"
   ]
  },
  {
   "cell_type": "code",
   "execution_count": 78,
   "metadata": {},
   "outputs": [
    {
     "data": {
      "text/plain": [
       "count         1309\n",
       "unique         929\n",
       "top       CA. 2343\n",
       "freq            11\n",
       "Name: ticket, dtype: object"
      ]
     },
     "execution_count": 78,
     "metadata": {},
     "output_type": "execute_result"
    }
   ],
   "source": [
    "# 【初步檢視ticket-船票編號顯示多組重複 >>> 家族旅遊共用相同船票編號】\n",
    "result.ticket.describe()"
   ]
  },
  {
   "cell_type": "code",
   "execution_count": 79,
   "metadata": {},
   "outputs": [
    {
     "data": {
      "text/plain": [
       "<matplotlib.legend.Legend at 0x202f4520>"
      ]
     },
     "execution_count": 79,
     "metadata": {},
     "output_type": "execute_result"
    },
    {
     "data": {
      "image/png": "[encoded data removed]",
      "text/plain": [
       "<Figure size 648x345.6 with 1 Axes>"
      ]
     },
     "metadata": {
      "needs_background": "light"
     },
     "output_type": "display_data"
    }
   ],
   "source": [
    "# 【初步檢視fare-分配傾斜嚴重】\n",
    "figure = plt.figure(figsize=(9,4.8))\n",
    "result['fare'].plot.hist(bins = 25, color='#bafff0',ec='#a8a8a8')\n",
    "plt.legend()"
   ]
  },
  {
   "cell_type": "code",
   "execution_count": 80,
   "metadata": {},
   "outputs": [
    {
     "data": {
      "text/plain": [
       "array([1, 2, 8, 4, 5, 3, 7, 6])"
      ]
     },
     "execution_count": 80,
     "metadata": {},
     "output_type": "execute_result"
    }
   ],
   "source": [
    "# 【處理fare-1/2用中位數填補空值】\n",
    "result['fare'] = result['fare'].fillna(train['fare'].median())\n",
    "# 【處理fare-1/2分1~8組】\n",
    "result.loc[ result['fare'] <= 20, 'Fare'] = 1\n",
    "result.loc[(result['fare'] > 20) & (result['fare'] <= 40), 'Fare'] = 2\n",
    "result.loc[(result['fare'] > 40) & (result['fare'] <= 60), 'Fare'] = 3\n",
    "result.loc[(result['fare'] > 60) & (result['fare'] <= 80), 'Fare'] = 4\n",
    "result.loc[(result['fare'] > 80) & (result['fare'] <= 100), 'Fare'] = 5\n",
    "result.loc[(result['fare'] > 100) & (result['fare'] <=120), 'Fare'] = 6\n",
    "result.loc[(result['fare'] > 120) & (result['fare'] <=140), 'Fare'] = 7\n",
    "result.loc[ result['fare'] > 140, 'Fare']=8 ;\n",
    "result['Fare'] = result['Fare'].astype(int)\n",
    "result.Fare.unique()"
   ]
  },
  {
   "cell_type": "code",
   "execution_count": 81,
   "metadata": {},
   "outputs": [
    {
     "data": {
      "text/plain": [
       "array(['n', 'C', 'D', 'E', 'B', 'F', 'A', 'G', 'T'], dtype=object)"
      ]
     },
     "execution_count": 81,
     "metadata": {},
     "output_type": "execute_result"
    }
   ],
   "source": [
    "# 【初步檢視cabin 複雜且缺值多】\n",
    "result.cabin.describe()\n",
    "result.cabin[result.cabin.notnull()]\n",
    "\n",
    "# 【建立Cabin 代表艙等代號】\n",
    "result['Cabin'] = result.cabin.astype(str).str[0]\n",
    "result.Cabin.unique()"
   ]
  },
  {
   "cell_type": "code",
   "execution_count": 82,
   "metadata": {},
   "outputs": [
    {
     "data": {
      "text/html": [
       "<div>\n",
       "<style scoped>\n",
       "    .dataframe tbody tr th:only-of-type {\n",
       "        vertical-align: middle;\n",
       "    }\n",
       "\n",
       "    .dataframe tbody tr th {\n",
       "        vertical-align: top;\n",
       "    }\n",
       "\n",
       "    .dataframe thead th {\n",
       "        text-align: right;\n",
       "    }\n",
       "</style>\n",
       "<table border=\"1\" class=\"dataframe\">\n",
       "  <thead>\n",
       "    <tr style=\"text-align: right;\">\n",
       "      <th></th>\n",
       "      <th>Cabin</th>\n",
       "      <th>survived</th>\n",
       "    </tr>\n",
       "  </thead>\n",
       "  <tbody>\n",
       "    <tr>\n",
       "      <th>1</th>\n",
       "      <td>B</td>\n",
       "      <td>0.692</td>\n",
       "    </tr>\n",
       "    <tr>\n",
       "      <th>4</th>\n",
       "      <td>E</td>\n",
       "      <td>0.683</td>\n",
       "    </tr>\n",
       "    <tr>\n",
       "      <th>6</th>\n",
       "      <td>G</td>\n",
       "      <td>0.600</td>\n",
       "    </tr>\n",
       "    <tr>\n",
       "      <th>3</th>\n",
       "      <td>D</td>\n",
       "      <td>0.587</td>\n",
       "    </tr>\n",
       "    <tr>\n",
       "      <th>5</th>\n",
       "      <td>F</td>\n",
       "      <td>0.571</td>\n",
       "    </tr>\n",
       "    <tr>\n",
       "      <th>2</th>\n",
       "      <td>C</td>\n",
       "      <td>0.521</td>\n",
       "    </tr>\n",
       "    <tr>\n",
       "      <th>0</th>\n",
       "      <td>A</td>\n",
       "      <td>0.409</td>\n",
       "    </tr>\n",
       "    <tr>\n",
       "      <th>8</th>\n",
       "      <td>n</td>\n",
       "      <td>0.303</td>\n",
       "    </tr>\n",
       "    <tr>\n",
       "      <th>7</th>\n",
       "      <td>T</td>\n",
       "      <td>0.000</td>\n",
       "    </tr>\n",
       "  </tbody>\n",
       "</table>\n",
       "</div>"
      ],
      "text/plain": [
       "  Cabin  survived\n",
       "1     B     0.692\n",
       "4     E     0.683\n",
       "6     G     0.600\n",
       "3     D     0.587\n",
       "5     F     0.571\n",
       "2     C     0.521\n",
       "0     A     0.409\n",
       "8     n     0.303\n",
       "7     T     0.000"
      ]
     },
     "execution_count": 82,
     "metadata": {},
     "output_type": "execute_result"
    }
   ],
   "source": [
    "# 【初步檢視Cabin和存活率關係-似乎沒太大關連】\n",
    "result[['Cabin','survived']].groupby(['Cabin'],as_index=False).mean().round(3).sort_values(by='survived', ascending=False)"
   ]
  },
  {
   "cell_type": "code",
   "execution_count": 83,
   "metadata": {},
   "outputs": [
    {
     "data": {
      "text/html": [
       "<div>\n",
       "<style scoped>\n",
       "    .dataframe tbody tr th:only-of-type {\n",
       "        vertical-align: middle;\n",
       "    }\n",
       "\n",
       "    .dataframe tbody tr th {\n",
       "        vertical-align: top;\n",
       "    }\n",
       "\n",
       "    .dataframe thead th {\n",
       "        text-align: right;\n",
       "    }\n",
       "</style>\n",
       "<table border=\"1\" class=\"dataframe\">\n",
       "  <thead>\n",
       "    <tr style=\"text-align: right;\">\n",
       "      <th></th>\n",
       "      <th>embarked</th>\n",
       "      <th>survived</th>\n",
       "    </tr>\n",
       "  </thead>\n",
       "  <tbody>\n",
       "    <tr>\n",
       "      <th>0</th>\n",
       "      <td>C</td>\n",
       "      <td>0.496</td>\n",
       "    </tr>\n",
       "    <tr>\n",
       "      <th>1</th>\n",
       "      <td>Q</td>\n",
       "      <td>0.423</td>\n",
       "    </tr>\n",
       "    <tr>\n",
       "      <th>2</th>\n",
       "      <td>S</td>\n",
       "      <td>0.319</td>\n",
       "    </tr>\n",
       "  </tbody>\n",
       "</table>\n",
       "</div>"
      ],
      "text/plain": [
       "  embarked  survived\n",
       "0        C     0.496\n",
       "1        Q     0.423\n",
       "2        S     0.319"
      ]
     },
     "execution_count": 83,
     "metadata": {},
     "output_type": "execute_result"
    }
   ],
   "source": [
    "# 【初步檢視embarked,boat,body和home.dest,都繁多且跟存活率無關聯】>>>僅以embarked代表\n",
    "result[['embarked','survived']].groupby(['embarked'],as_index=False).mean().round(3).sort_values(by='survived', ascending=False)"
   ]
  },
  {
   "cell_type": "code",
   "execution_count": 84,
   "metadata": {},
   "outputs": [
    {
     "name": "stdout",
     "output_type": "stream",
     "text": [
      "<class 'pandas.core.frame.DataFrame'>\n",
      "MultiIndex: 1309 entries, ('train', 0) to ('test', 458)\n",
      "Data columns (total 20 columns):\n",
      " #   Column        Non-Null Count  Dtype  \n",
      "---  ------        --------------  -----  \n",
      " 0   passenger_id  1309 non-null   int64  \n",
      " 1   pclass        1309 non-null   int64  \n",
      " 2   name          1309 non-null   object \n",
      " 3   sex           1309 non-null   int32  \n",
      " 4   age           1309 non-null   int32  \n",
      " 5   sibsp         1309 non-null   int64  \n",
      " 6   parch         1309 non-null   int64  \n",
      " 7   ticket        1309 non-null   object \n",
      " 8   fare          1309 non-null   float64\n",
      " 9   cabin         295 non-null    object \n",
      " 10  embarked      1307 non-null   object \n",
      " 11  boat          486 non-null    object \n",
      " 12  body          121 non-null    float64\n",
      " 13  home.dest     745 non-null    object \n",
      " 14  survived      1309 non-null   int64  \n",
      " 15  Title         1309 non-null   int32  \n",
      " 16  Age           1309 non-null   int32  \n",
      " 17  family        1309 non-null   int32  \n",
      " 18  Fare          1309 non-null   int32  \n",
      " 19  Cabin         1309 non-null   object \n",
      "dtypes: float64(2), int32(6), int64(5), object(7)\n",
      "memory usage: 224.5+ KB\n"
     ]
    }
   ],
   "source": [
    "result.info()"
   ]
  },
  {
   "cell_type": "code",
   "execution_count": 85,
   "metadata": {},
   "outputs": [
    {
     "name": "stdout",
     "output_type": "stream",
     "text": [
      "Base oob score :0.86707\n"
     ]
    }
   ],
   "source": [
    "# split training set the testing set\n",
    "train = result[:len(train)]\n",
    "test = result[len(train):]\n",
    "\n",
    "\n",
    "# Inputs set and labels\n",
    "X = result.drop(labels=['survived','passenger_id'],axis=1)\n",
    "Y = result['survived']\n",
    "\n",
    "\n",
    "# Show Baseline\n",
    "Base = ['pclass','sex','age','fare']\n",
    "Base_Model = RandomForestClassifier(random_state=2,n_estimators=250,min_samples_split=20,oob_score=True)\n",
    "Base_Model.fit(X[Base], Y)\n",
    "print('Base oob score :%.5f' %(Base_Model.oob_score_)) #得到很高的score0.86937"
   ]
  }
 ],
 "metadata": {
  "kernelspec": {
   "display_name": "Python 3",
   "language": "python",
   "name": "python3"
  },
  "language_info": {
   "codemirror_mode": {
    "name": "ipython",
    "version": 3
   },
   "file_extension": ".py",
   "mimetype": "text/x-python",
   "name": "python",
   "nbconvert_exporter": "python",
   "pygments_lexer": "ipython3",
   "version": "3.8.3rc1"
  }
 },
 "nbformat": 4,
 "nbformat_minor": 4
}
